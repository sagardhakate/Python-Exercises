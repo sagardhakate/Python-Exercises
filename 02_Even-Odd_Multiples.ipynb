{
 "cells": [
  {
   "cell_type": "markdown",
   "metadata": {},
   "source": [
    "# Even - Odd, Multiples"
   ]
  },
  {
   "cell_type": "code",
   "execution_count": 1,
   "metadata": {},
   "outputs": [
    {
     "name": "stdout",
     "output_type": "stream",
     "text": [
      "Please enter any number :23\n",
      "23\n"
     ]
    }
   ],
   "source": [
    "num = int(input(\"Please enter any number :\"))\n",
    "print(num)"
   ]
  },
  {
   "cell_type": "code",
   "execution_count": null,
   "metadata": {},
   "outputs": [
    {
     "name": "stdout",
     "output_type": "stream",
     "text": [
      "Please enter any number : 88\n",
      "Number 88 is even\n",
      "Number 88 is multiple of 4 also\n"
     ]
    }
   ],
   "source": [
    "num = int(input(\"Please enter any number : \"))\n",
    "if num%2 == 0 :\n",
    "    print(\"Number {} is even\".format(num))\n",
    "else:\n",
    "    print(\"Number {} is odd\".format(num))\n",
    "    \n",
    "num1 =  int(num - ((int(num/100))*100))\n",
    "if num1%4 == 0:\n",
    "    print (\"Number {} is multiple of 4 also\".format(num))\n",
    "\n",
    "num2 = int(input(\"Please enter any other number : \"))\n",
    "check = int(input(\"Please enter one more number : \"))\n",
    "if num2%check == 0:\n",
    "    print(\"Number {} is completely divisible by {}\".format(num2,check))\n",
    "else:\n",
    "    print(\"Number {} is not completely divisible by {}\".format(num2,check))\n",
    "    "
   ]
  },
  {
   "cell_type": "code",
   "execution_count": null,
   "metadata": {},
   "outputs": [],
   "source": []
  },
  {
   "cell_type": "code",
   "execution_count": null,
   "metadata": {},
   "outputs": [],
   "source": []
  }
 ],
 "metadata": {
  "kernelspec": {
   "display_name": "Python 3",
   "language": "python",
   "name": "python3"
  },
  "language_info": {
   "codemirror_mode": {
    "name": "ipython",
    "version": 3
   },
   "file_extension": ".py",
   "mimetype": "text/x-python",
   "name": "python",
   "nbconvert_exporter": "python",
   "pygments_lexer": "ipython3",
   "version": "3.6.5"
  }
 },
 "nbformat": 4,
 "nbformat_minor": 2
}
