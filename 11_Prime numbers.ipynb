{
 "cells": [
  {
   "cell_type": "markdown",
   "metadata": {},
   "source": [
    "# Check for prime number"
   ]
  },
  {
   "cell_type": "code",
   "execution_count": 67,
   "metadata": {},
   "outputs": [
    {
     "name": "stdout",
     "output_type": "stream",
     "text": [
      "Please give me a number :47\n",
      "The given number 47 is a prime \n"
     ]
    }
   ],
   "source": [
    "def get_integer():\n",
    "    return int(input(\"Please give me a number :\"))\n",
    "\n",
    "    \n",
    "def find_prm(x):\n",
    "    i = 2\n",
    "    divisor_count = 0\n",
    "    num = get_integer()\n",
    "    \n",
    "# Check for Primility\n",
    "    while i <= num:\n",
    "        if num%i == 0:\n",
    "            i+=1\n",
    "            divisor_count+=1\n",
    "        else:\n",
    "            i+=1\n",
    "            \n",
    "# Check for divisor count          \n",
    "    if divisor_count > 1:\n",
    "        print (\"The given number {} is not a prime \".format(num))\n",
    "    else:\n",
    "        print (\"The given number {} is a prime \".format(num))\n",
    "\n",
    "find_prm(num)"
   ]
  },
  {
   "cell_type": "code",
   "execution_count": null,
   "metadata": {},
   "outputs": [],
   "source": []
  },
  {
   "cell_type": "code",
   "execution_count": null,
   "metadata": {},
   "outputs": [],
   "source": []
  }
 ],
 "metadata": {
  "kernelspec": {
   "display_name": "Python 3",
   "language": "python",
   "name": "python3"
  },
  "language_info": {
   "codemirror_mode": {
    "name": "ipython",
    "version": 3
   },
   "file_extension": ".py",
   "mimetype": "text/x-python",
   "name": "python",
   "nbconvert_exporter": "python",
   "pygments_lexer": "ipython3",
   "version": "3.6.5"
  }
 },
 "nbformat": 4,
 "nbformat_minor": 2
}
