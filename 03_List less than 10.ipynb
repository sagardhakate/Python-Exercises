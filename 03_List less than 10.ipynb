{
 "cells": [
  {
   "cell_type": "markdown",
   "metadata": {},
   "source": [
    "# List Less Than Ten"
   ]
  },
  {
   "cell_type": "code",
   "execution_count": 9,
   "metadata": {},
   "outputs": [
    {
     "name": "stdout",
     "output_type": "stream",
     "text": [
      "1\n",
      "1\n",
      "2\n",
      "3\n",
      "[1, 1, 2, 3]\n",
      "\n",
      "\n",
      "Please enter number to provide the elements from the list which are less than that number : 12\n",
      "\n",
      "\n",
      "[1, 1, 2, 3, 5, 8]\n"
     ]
    }
   ],
   "source": [
    "#Instead of printing the elements one by one, make a new list that has all the elements less than 5 from this list in \n",
    "#it and print out this new list.\n",
    "a = [1, 1, 2, 3, 5, 8, 13, 21, 34, 55, 89]\n",
    "b = []\n",
    "i = -1\n",
    "for num in a:\n",
    "   if num < 5:\n",
    "       print (num)\n",
    "#       i = i+1\n",
    "#       print (\"i = {}\".format(i))\n",
    "       b.append(num)\n",
    "print (b)\n",
    "\n",
    "#Write above code in one line of Python.        \n",
    "#print(list(filter(lambda x: (x<5),a)))\n",
    "\n",
    "# Ask the user for a number and return a list that contains only \n",
    "#elements from the original list a that are smaller than that number given by the user.\n",
    "print('\\n')\n",
    "c = int(input(\"Please enter number to provide the elements from the list which are less than that number : \"))\n",
    "print('\\n')\n",
    "print(list(filter(lambda x: (x<c),a)))\n"
   ]
  },
  {
   "cell_type": "code",
   "execution_count": null,
   "metadata": {},
   "outputs": [],
   "source": []
  }
 ],
 "metadata": {
  "kernelspec": {
   "display_name": "Python 3",
   "language": "python",
   "name": "python3"
  },
  "language_info": {
   "codemirror_mode": {
    "name": "ipython",
    "version": 3
   },
   "file_extension": ".py",
   "mimetype": "text/x-python",
   "name": "python",
   "nbconvert_exporter": "python",
   "pygments_lexer": "ipython3",
   "version": "3.6.5"
  }
 },
 "nbformat": 4,
 "nbformat_minor": 2
}
