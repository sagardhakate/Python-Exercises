{
 "cells": [
  {
   "cell_type": "markdown",
   "metadata": {},
   "source": [
    "# Divisors using list"
   ]
  },
  {
   "cell_type": "code",
   "execution_count": 13,
   "metadata": {},
   "outputs": [
    {
     "name": "stdout",
     "output_type": "stream",
     "text": [
      "Please enter any number :8394832\n",
      "[2, 4, 8, 16, 41, 67, 82, 134, 164, 191, 268, 328, 382, 536, 656, 764, 1072, 1528, 2747, 3056, 5494, 7831, 10988, 12797, 15662, 21976, 25594, 31324, 43952, 51188, 62648, 102376, 125296, 204752, 524677, 1049354, 2098708, 4197416]\n"
     ]
    }
   ],
   "source": [
    "a = int(input(\"Please enter any number :\"))\n",
    "#print (a)\n",
    "x = range (2,a)\n",
    "f = []\n",
    "for elem in x:\n",
    "    if a%elem ==0:\n",
    "        #print(elem)\n",
    "        f.append(elem)\n",
    "print (f)"
   ]
  },
  {
   "cell_type": "code",
   "execution_count": null,
   "metadata": {},
   "outputs": [],
   "source": []
  }
 ],
 "metadata": {
  "kernelspec": {
   "display_name": "Python 3",
   "language": "python",
   "name": "python3"
  },
  "language_info": {
   "codemirror_mode": {
    "name": "ipython",
    "version": 3
   },
   "file_extension": ".py",
   "mimetype": "text/x-python",
   "name": "python",
   "nbconvert_exporter": "python",
   "pygments_lexer": "ipython3",
   "version": "3.6.5"
  }
 },
 "nbformat": 4,
 "nbformat_minor": 2
}
