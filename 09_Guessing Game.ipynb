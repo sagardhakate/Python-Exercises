{
 "cells": [
  {
   "cell_type": "code",
   "execution_count": 1,
   "metadata": {},
   "outputs": [
    {
     "name": "stdout",
     "output_type": "stream",
     "text": [
      "Do you want to play guess game, if yes enter 'y' else type 'exit' : y\n",
      "Choice at start y\n",
      "Enter the any number between 1 to 9 : 4\n",
      "Sorry, you've guessed too bigger\n",
      "Do you want to continue, if yes just enter else type 'exit' : 3\n",
      "Enter the any number between 1 to 9 : 3\n",
      "Sorry, you've guessed too bigger\n",
      "Do you want to continue, if yes just enter else type 'exit' : \n",
      "Enter the any number between 1 to 9 : 2\n",
      "Sorry, you've guessed too bigger\n",
      "Do you want to continue, if yes just enter else type 'exit' : \n",
      "Enter the any number between 1 to 9 : 1\n",
      "Bingo, you've guessed it exactly\n",
      "it took 4 attempts to guess the number \n",
      "Do you want to continue, if yes just enter else type 'exit' : exit\n",
      "\n"
     ]
    }
   ],
   "source": [
    "import random\n",
    " \n",
    "a = [1, 2, 3, 4, 5, 6, 7, 8, 9]\n",
    "Choice = input(\"Do you want to play guess game, if yes enter 'y' else type 'exit' : \")\n",
    "print( 'Choice at start' , Choice)\n",
    "count = 0\n",
    "Rand_Num = random.randint(1,9)\n",
    "\n",
    "while Choice.lower() != 'exit' :    \n",
    "\n",
    "    count += 1\n",
    "    \n",
    "    Guess_Num = input(\"Enter the any number between 1 to 9 : \")\n",
    "        \n",
    "    try:\n",
    "        if int(Guess_Num) > Rand_Num:\n",
    "            print (\"Sorry, you've guessed too bigger\")\n",
    "        elif int(Guess_Num) < Rand_Num:\n",
    "            print (\"Sorry, you've guessed too smaller\")\n",
    "        else:\n",
    "            print (\"Bingo, you've guessed it exactly\")\n",
    "            print (\"it took {} attempts to guess the number \".format(count))\n",
    "        Choice = input(\"Do you want to continue, if yes just enter else type 'exit' : \")    \n",
    "    \n",
    "    except ValueError:\n",
    "        print('Please enter the valid integer between 1 and 9')\n",
    "\n",
    "if Choice.lower()  == 'exit':\n",
    "   print()\n",
    "\n",
    "    \n",
    "    \n"
   ]
  },
  {
   "cell_type": "code",
   "execution_count": 5,
   "metadata": {},
   "outputs": [
    {
     "name": "stdout",
     "output_type": "stream",
     "text": [
      "type anywhere \"exit\" if you want to close the program\n",
      "guess the number between 1 and 9:y\n",
      "enter proper values yaar...\n"
     ]
    }
   ],
   "source": [
    "import random\n",
    "print('type anywhere \"exit\" if you want to close the program')\n",
    "res = 'y'\n",
    "count = 0\n",
    "\n",
    "try:\n",
    "    while res != 'exit':\n",
    "        count += 1\n",
    "        computer_num = random.randint(1, 9)\n",
    "        user_num = input('guess the number between 1 and 9:').lower()\n",
    "        if user_num == 'exit':\n",
    "            break\n",
    "        elif int(user_num) > 9 or int(user_num) < 1:\n",
    "            print('please select between 1 and 9')\n",
    "        else:\n",
    "            user_num = int(user_num)\n",
    "            if user_num == computer_num:\n",
    "                print('congratulations...you guessed the correct one')\n",
    "                print('you attempted: ' + str(count) + ' times to generate output')\n",
    "            elif user_num > computer_num:\n",
    "                print('you guessed big number than computer generated: ', computer_num)\n",
    "            else:\n",
    "                print('you guessed small number than computer generated: ', computer_num)\n",
    "\n",
    "        res = input('enter \"exit\" if you want to quit: or else just enter')\n",
    "\n",
    "except ValueError:\n",
    "    print('enter proper values yaar...')\n",
    " "
   ]
  },
  {
   "cell_type": "code",
   "execution_count": null,
   "metadata": {},
   "outputs": [],
   "source": []
  }
 ],
 "metadata": {
  "kernelspec": {
   "display_name": "Python 3",
   "language": "python",
   "name": "python3"
  },
  "language_info": {
   "codemirror_mode": {
    "name": "ipython",
    "version": 3
   },
   "file_extension": ".py",
   "mimetype": "text/x-python",
   "name": "python",
   "nbconvert_exporter": "python",
   "pygments_lexer": "ipython3",
   "version": "3.6.5"
  }
 },
 "nbformat": 4,
 "nbformat_minor": 2
}
