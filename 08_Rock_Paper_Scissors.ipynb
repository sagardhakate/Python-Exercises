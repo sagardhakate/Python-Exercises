{
 "cells": [
  {
   "cell_type": "code",
   "execution_count": null,
   "metadata": {},
   "outputs": [
    {
     "name": "stdout",
     "output_type": "stream",
     "text": [
      "Let's play the Rock, Paper, Scissor game\n",
      "Enter your choice -  ds\n",
      "rock\n",
      "ds\n",
      "Please enter valid input\n",
      "Hey, do you want to play again? if no enter 'n' else just press enter - \n",
      "Enter your choice -  dlksfl\n",
      "rock\n",
      "dlksfl\n",
      "Please enter valid input\n"
     ]
    }
   ],
   "source": [
    "import random\n",
    "option = ['Rock', 'Paper', 'Scissor']\n",
    "\n",
    "print(\"Let's play the Rock, Paper, Scissor game\")\n",
    "\n",
    "\n",
    "user_choice = 'y'\n",
    "while user_choice.lower() != 'n':\n",
    "#    try:\n",
    "    player1 = input(\"Enter your choice -  \")\n",
    "    comp_choice = random.choice(['rock', 'paper', 'scissor'])\n",
    "    print(comp_choice)\n",
    "\n",
    "    player1 = str.lower(player1)\n",
    "    print(player1)\n",
    "    if player1 == comp_choice:\n",
    "        print(\"GAME TIED :)\")\n",
    "    elif (player1 == 'paper') & (comp_choice == 'scissor'):\n",
    "        print (\"YOU LOST :( \")\n",
    "    elif (player1 == 'scissor') & (comp_choice == 'paper'):\n",
    "        print (\"Congratulations! YOU WON :)\")\n",
    "    elif (player1 == 'scissor') & (comp_choice == 'rock'):\n",
    "        print (\"YOU LOST :( \")\n",
    "    elif (player1 == 'rock') & (comp_choice == 'scissor'):\n",
    "        print (\"Congratulations! YOU WON :)\")\n",
    "    elif (player1 == 'paper') & (comp_choice == 'rock'):\n",
    "        print (\"Congratulations! YOU WON :)\")\n",
    "    elif (player1 == 'rock') & (comp_choice == 'paper'):\n",
    "        print(\"YOU LOST :( \")\n",
    "\n",
    "    else: \n",
    "        #player1 != 'rock' or 'paper' or 'scissor':\n",
    "        print(\"Please enter valid input\")\n",
    "\n",
    "    user_choice = input(\"Hey, do you want to play again? if no enter 'n' else just press enter - \")\n",
    "        \n",
    "#    except ValueError:\n",
    "#        print(\"Please enter valid input\")\n",
    "\n",
    "\n",
    "    \n",
    "    \n"
   ]
  },
  {
   "cell_type": "code",
   "execution_count": null,
   "metadata": {},
   "outputs": [],
   "source": []
  },
  {
   "cell_type": "code",
   "execution_count": null,
   "metadata": {},
   "outputs": [],
   "source": []
  }
 ],
 "metadata": {
  "kernelspec": {
   "display_name": "Python 3",
   "language": "python",
   "name": "python3"
  },
  "language_info": {
   "codemirror_mode": {
    "name": "ipython",
    "version": 3
   },
   "file_extension": ".py",
   "mimetype": "text/x-python",
   "name": "python",
   "nbconvert_exporter": "python",
   "pygments_lexer": "ipython3",
   "version": "3.6.5"
  }
 },
 "nbformat": 4,
 "nbformat_minor": 2
}
