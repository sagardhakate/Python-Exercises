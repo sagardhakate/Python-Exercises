{
 "cells": [
  {
   "cell_type": "code",
   "execution_count": 4,
   "metadata": {},
   "outputs": [
    {
     "name": "stdout",
     "output_type": "stream",
     "text": [
      "Enter any 4-digit number : 3458\n",
      "3458\n",
      "num1[0] - 3\n",
      "Cows = 1\n",
      "Bulls = 0\n",
      "Enter any 4-digit number : 3678\n",
      "3678\n",
      "num1[0] - 3\n",
      "Cows = 1\n",
      "Bulls = 1\n",
      "Enter any 4-digit number : 3567\n",
      "3567\n",
      "num1[0] - 3\n",
      "Cows = 1\n",
      "Bulls = 1\n",
      "Enter any 4-digit number : 3576\n",
      "3576\n",
      "num1[0] - 3\n",
      "Cows = 2\n",
      "Bulls = 0\n",
      "Enter any 4-digit number : 3126\n",
      "3126\n",
      "num1[0] - 3\n",
      "Cows = 4\n",
      "Bulls = 0\n",
      "Congratulations! you have guessed the number in 5 attempts\n"
     ]
    }
   ],
   "source": [
    "## import random\n",
    "def get_number():\n",
    "    return input(\"Enter any 4-digit number : \")\n",
    "\n",
    "rand_num = random.randint(1000,10000)\n",
    "rand_num1 = list(str(rand_num))\n",
    "#print(rand_num1)\n",
    "\n",
    "\n",
    "\n",
    "def cow_or_bull():\n",
    "    cow = 0\n",
    "    bull = 0\n",
    "    attempt = 0\n",
    "    while cow != 4:\n",
    "        num = get_number()\n",
    "        attempt+=1\n",
    "        global num1 \n",
    "        num1 = list(num)\n",
    "        \n",
    "        print(num)\n",
    "        #print(rand_num)\n",
    "        \n",
    "        #print(\"num1[0] - \" + num1[0])\n",
    "        if num1[0] == rand_num1[0]:\n",
    "            cow+=1\n",
    "            #print(\"Added cow in ZERO\")\n",
    "        elif ((num1[0] == rand_num1[1]) or (num1[0] == rand_num1[2]) or (num1[0] == rand_num1[3])):\n",
    "                bull+=1\n",
    "                #print(\"Added bull - 0 - \" + str(bull))\n",
    "\n",
    "        if num1[1] == rand_num1[1]:\n",
    "            cow+=1\n",
    "            #print(\"Added cow in ONE\")\n",
    "        elif ((num1[1] == rand_num1[0]) or (num1[1] == rand_num1[2]) or (num1[1] == rand_num1[3])):\n",
    "                bull+=1\n",
    "                #print(\"Added bull - 1 - \" + str(bull))\n",
    "                \n",
    "        if num1[2] == rand_num1[2]:\n",
    "            cow+=1\n",
    "            #print(\"Added cow in TWO\")\n",
    "        elif ((num1[2] == rand_num1[1]) or (num1[2] == rand_num1[0]) or (num1[2] == rand_num1[3])):\n",
    "                bull+=1\n",
    "                #print(\"Added bull - 2 - \" + str(bull))\n",
    "                \n",
    "        if num1[3] == rand_num1[3]:\n",
    "            cow+=1\n",
    "            #print(\"Added cow in THREE\")\n",
    "        elif ((num1[3] == rand_num1[1]) or (num1[3] == rand_num1[2]) or (num1[3] == rand_num1[0])):\n",
    "                bull+=1\n",
    "                #print(\"Added bull - 3 - \" + str(bull))\n",
    "        \n",
    "        print(\"Cows = \" + str(cow))\n",
    "        print(\"Bulls = \" + str(bull))\n",
    "        if cow != 4:\n",
    "            cow = 0\n",
    "            bull= 0     \n",
    "        else:\n",
    "            print(\"Congratulations! you have guessed the number in {} attempts\".format(attempt))\n",
    "                \n",
    "\n",
    "cow_or_bull()    "
   ]
  },
  {
   "cell_type": "markdown",
   "metadata": {},
   "source": [
    "#### import random\n",
    "rand_num = random.randint(999,10000)\n",
    "print(rand_num)\n",
    "print(int(rand_num/1000))\n",
    "print(int(rand_num/100))\n",
    "print(int(rand_num/10))"
   ]
  },
  {
   "cell_type": "code",
   "execution_count": null,
   "metadata": {},
   "outputs": [],
   "source": [
    "num = input(\"Enter any 4-digit number : \")\n",
    "print(type(num))\n",
    "num1 = list(num)\n",
    "print(num1)"
   ]
  },
  {
   "cell_type": "code",
   "execution_count": null,
   "metadata": {},
   "outputs": [],
   "source": []
  }
 ],
 "metadata": {
  "kernelspec": {
   "display_name": "Python 3",
   "language": "python",
   "name": "python3"
  }
 },
 "nbformat": 4,
 "nbformat_minor": 2
}
