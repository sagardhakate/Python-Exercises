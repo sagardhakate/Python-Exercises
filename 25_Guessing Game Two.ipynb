{
 "cells": [
  {
   "cell_type": "markdown",
   "metadata": {},
   "source": [
    "# Guessing Game 2"
   ]
  },
  {
   "cell_type": "code",
   "execution_count": 4,
   "metadata": {},
   "outputs": [
    {
     "name": "stdout",
     "output_type": "stream",
     "text": [
      "Is the number you're thinking of 50?\n",
      "Enter Y if I'm right, H if it's too high and L if it's too low:L\n",
      "Is the number you're thinking of 75?\n",
      "Enter Y if I'm right, H if it's too high and L if it's too low:L\n",
      "Is the number you're thinking of 88?\n",
      "Enter Y if I'm right, H if it's too high and L if it's too low:L\n",
      "Is the number you're thinking of 94?\n",
      "Enter Y if I'm right, H if it's too high and L if it's too low:H\n",
      "Is the number you're thinking of 91?\n",
      "Enter Y if I'm right, H if it's too high and L if it's too low:H\n",
      "Is the number you're thinking of 89?\n",
      "Enter Y if I'm right, H if it's too high and L if it's too low:Y\n",
      "I guessed your number! Who would've thought it was 89?\n"
     ]
    }
   ],
   "source": [
    "guess = 50\n",
    "min = 0\n",
    "max = 101\n",
    "while True:\n",
    "    print(\"Is the number you're thinking of %d?\" % (guess))\n",
    "    answer = input(\"Enter Y if I'm right, H if it's too high and L if it's too low:\")\n",
    "\n",
    "    if answer==\"Y\":\n",
    "        print(\"I guessed your number! Who would've thought it was %d?\" % (guess))\n",
    "        break\n",
    "    elif answer==\"H\":\n",
    "        max=guess\n",
    "        guess=(max+min)/2\n",
    "    elif answer==\"L\":\n",
    "        min=guess\n",
    "        guess=(max+min)/2"
   ]
  },
  {
   "cell_type": "code",
   "execution_count": null,
   "metadata": {},
   "outputs": [],
   "source": []
  }
 ],
 "metadata": {
  "kernelspec": {
   "display_name": "Python 3",
   "language": "python",
   "name": "python3"
  },
  "language_info": {
   "codemirror_mode": {
    "name": "ipython",
    "version": 3
   },
   "file_extension": ".py",
   "mimetype": "text/x-python",
   "name": "python",
   "nbconvert_exporter": "python",
   "pygments_lexer": "ipython3",
   "version": "3.6.5"
  }
 },
 "nbformat": 4,
 "nbformat_minor": 2
}
